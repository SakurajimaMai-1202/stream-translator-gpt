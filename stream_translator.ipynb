{
  "cells": [
    {
      "cell_type": "markdown",
      "metadata": {
        "colab_type": "text",
        "id": "view-in-github"
      },
      "source": [
        "<a href=\"https://colab.research.google.com/github/ionic-bond/stream-translator-gpt/blob/main/stream_translator.ipynb\" target=\"_parent\"><img src=\"https://colab.research.google.com/assets/colab-badge.svg\" alt=\"Open In Colab\"/></a>"
      ]
    },
    {
      "cell_type": "code",
      "execution_count": null,
      "metadata": {
        "id": "1YobI37NrHO3"
      },
      "outputs": [],
      "source": [
        "!nvidia-smi"
      ]
    },
    {
      "cell_type": "code",
      "execution_count": null,
      "metadata": {
        "id": "qjcs6q2CsH-N"
      },
      "outputs": [],
      "source": [
        "%cd /content\n",
        "!git clone https://github.com/ionic-bond/stream-translator-gpt.git\n",
        "%cd stream-translator-gpt\n",
        "!pip install -r requirements.txt"
      ]
    },
    {
      "cell_type": "code",
      "execution_count": null,
      "metadata": {
        "id": "_mU1b9P6sKyO"
      },
      "outputs": [],
      "source": [
        "%cd /content\n",
        "!pip install \"faster-whisper @ https://github.com/guillaumekln/faster-whisper/archive/refs/heads/master.tar.gz\"\n",
        "!ct2-transformers-converter --model openai/whisper-large-v2 --output_dir whisper-large-v2-ct2 \\\n",
        "    --copy_files tokenizer.json --quantization float16"
      ]
    },
    {
      "cell_type": "code",
      "execution_count": null,
      "metadata": {
        "id": "kIFl41YXsLr2"
      },
      "outputs": [],
      "source": [
        "%cd /content/stream-translator-gpt\n",
        "!python3 translator.py https://www.youtube.com/watch?v=r1dytEjbUqo --model large --language ja \\\n",
        "  --use_faster_whisper --faster_whisper_model_path /content/whisper-large-v2-ct2 \\\n",
        "  --gpt_translation_prompt \"Translate from Japanese to Chinese\" --openai_api_key \"\" \\\n",
        "  --cqhttp_url \"\" --cqhttp_token \"\""
      ]
    }
  ],
  "metadata": {
    "accelerator": "GPU",
    "colab": {
      "authorship_tag": "ABX9TyPhxgmdjjNjPE1qGMaWxMeF",
      "include_colab_link": true,
      "provenance": []
    },
    "gpuClass": "standard",
    "kernelspec": {
      "display_name": "Python 3",
      "name": "python3"
    },
    "language_info": {
      "name": "python"
    }
  },
  "nbformat": 4,
  "nbformat_minor": 0
}
